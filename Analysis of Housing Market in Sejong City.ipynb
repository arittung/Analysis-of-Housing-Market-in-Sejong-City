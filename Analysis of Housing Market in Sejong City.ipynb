{
 "cells": [
  {
   "cell_type": "code",
   "execution_count": 1,
   "id": "integrated-funeral",
   "metadata": {},
   "outputs": [],
   "source": [
    "#-*coding:utf-8 -*-\n",
    "\n",
    "import pathlib\n",
    "import random\n",
    "from functools import reduce\n",
    "from collections import defaultdict\n",
    "\n",
    "import pandas as pd\n",
    "import geopandas as gpd\n",
    "import folium\n",
    "import shapely\n",
    "import numpy as np\n",
    "from IPython.display import display\n",
    "import matplotlib.pyplot as plt\n",
    "from tqdm.notebook import tqdm\n",
    "import xgboost\n",
    "import sklearn.cluster\n",
    "import tensorflow as tf\n",
    "import matplotlib as mpl\n",
    "import seaborn as sns\n",
    "\n",
    "from pandas import DataFrame\n",
    "from geoband import API\n",
    "from folium import Map, CircleMarker, Vega, Popup\n",
    "from vincent import Bar\n",
    "import math"
   ]
  },
  {
   "cell_type": "markdown",
   "id": "searching-chess",
   "metadata": {},
   "source": [
    "# 제공된 데이터"
   ]
  },
  {
   "cell_type": "code",
   "execution_count": 16,
   "id": "induced-license",
   "metadata": {},
   "outputs": [
    {
     "name": "stdout",
     "output_type": "stream",
     "text": [
      "input/1.세종시_전유부.csv\n",
      "input/10.세종시_오피스텔(전월세)_실거래가.csv\n",
      "input/11.세종시_상업업무용(매매)_실거래가.csv\n",
      "input/12.세종시_토지(매매)_실거래가.csv\n",
      "input/14.세종시_상권정보.csv\n",
      "input/13.세종시_분양권_실거래가.csv\n",
      "input/15.세종시_상권정보_업종코드.csv\n",
      "input/18.세종시_개별공시지가(2017~2020).csv\n",
      "input/17.세종시_사업체_매출정보.csv\n",
      "input/2.세종시_표제부.csv\n",
      "input/20.세종시_전입자수.csv\n",
      "input/21.세종시_전출자수.csv\n",
      "input/22.세종시_연령별_인구현황.csv\n",
      "input/25.세종시_가구_월평균_소비지출액.csv\n",
      "input/26.세종시_거주기간.csv\n",
      "input/27.세종시_월평균_가구소득.csv\n",
      "input/28.세종시_지역별_세대원수별_세대수.csv\n",
      "input/29.세종시_거주의사(향후).csv\n",
      "input/3.세종시_아파트(매매)_실거래가.csv\n",
      "input/4.세종시_연립다세대(매매)_실거래가.csv\n",
      "input/5.세종시_단독다가구(매매)_실거래가.csv\n",
      "input/6.세종시_오피스텔(매매)_실거래가.csv\n",
      "input/7.세종시_아파트(전월세)_실거래가.csv\n",
      "input/8.세종시_연립다세대(전월세)_실거래가.csv\n",
      "input/9.세종시_단독다가구(전월세)_실거래가.csv\n",
      "input/16.세종시_사업체_매출정보.geojson\n",
      "input/19.세종시_연령별_거주인구정보_격자.geojson\n",
      "input/23.세종시_도로명주소_건물.geojson\n",
      "input/24.세종시_건축물연면적_격자.geojson\n",
      "input/30.세종시_법정경계(시군구).geojson\n",
      "input/31.세종시_법정경계(읍면동).geojson\n",
      "input/32.세종시_행정경계(읍면동).geojson\n",
      "input/33.세종시_지적도.geojson\n"
     ]
    }
   ],
   "source": [
    "input_path = pathlib.Path('./input')\n",
    "if not input_path.is_dir():\n",
    "    input_path.mkdir()\n",
    "\n",
    "from geoband.API import *\n",
    "GetCompasData('SBJ_2102_001', '1', '1.세종시_전유부.csv')\n",
    "GetCompasData('SBJ_2102_001', '2', '2.세종시_표제부.csv')\n",
    "GetCompasData('SBJ_2102_001', '3', '3.세종시_아파트(매매)_실거래가.csv')\n",
    "GetCompasData('SBJ_2102_001', '4', '4.세종시_연립다세대(매매)_실거래가.csv')\n",
    "GetCompasData('SBJ_2102_001', '5', '5.세종시_단독다가구(매매)_실거래가.csv')\n",
    "GetCompasData('SBJ_2102_001', '6', '6.세종시_오피스텔(매매)_실거래가.csv')\n",
    "GetCompasData('SBJ_2102_001', '7', '7.세종시_아파트(전월세)_실거래가.csv')\n",
    "GetCompasData('SBJ_2102_001', '8', '8.세종시_연립다세대(전월세)_실거래가.csv')\n",
    "GetCompasData('SBJ_2102_001', '9', '9.세종시_단독다가구(전월세)_실거래가.csv')\n",
    "GetCompasData('SBJ_2102_001', '10', '10.세종시_오피스텔(전월세)_실거래가.csv')\n",
    "GetCompasData('SBJ_2102_001', '11', '11.세종시_상업업무용(매매)_실거래가.csv')\n",
    "GetCompasData('SBJ_2102_001', '12', '12.세종시_토지(매매)_실거래가.csv')\n",
    "GetCompasData('SBJ_2102_001', '13', '13.세종시_분양권_실거래가.csv')\n",
    "GetCompasData('SBJ_2102_001', '14', '14.세종시_상권정보.csv')\n",
    "GetCompasData('SBJ_2102_001', '15', '15.세종시_상권정보_업종코드.csv')\n",
    "GetCompasData('SBJ_2102_001', '16', '16.세종시_사업체_매출정보.geojson')\n",
    "GetCompasData('SBJ_2102_001', '17', '17.세종시_사업체_매출정보.csv')\n",
    "GetCompasData('SBJ_2102_001', '18', '18.세종시_개별공시지가(2017~2020).csv')\n",
    "GetCompasData('SBJ_2102_001', '19', '19.세종시_연령별_거주인구정보_격자.geojson')\n",
    "GetCompasData('SBJ_2102_001', '20', '20.세종시_전입자수.csv')\n",
    "GetCompasData('SBJ_2102_001', '21', '21.세종시_전출자수.csv')\n",
    "GetCompasData('SBJ_2102_001', '22', '22.세종시_연령별_인구현황.csv')\n",
    "GetCompasData('SBJ_2102_001', '23', '23.세종시_도로명주소_건물.geojson')\n",
    "GetCompasData('SBJ_2102_001', '24', '24.세종시_건축물연면적_격자.geojson')\n",
    "GetCompasData('SBJ_2102_001', '25', '25.세종시_가구_월평균_소비지출액.csv')\n",
    "GetCompasData('SBJ_2102_001', '26', '26.세종시_거주기간.csv')\n",
    "GetCompasData('SBJ_2102_001', '27', '27.세종시_월평균_가구소득.csv')\n",
    "GetCompasData('SBJ_2102_001', '28', '28.세종시_지역별_세대원수별_세대수.csv')\n",
    "GetCompasData('SBJ_2102_001', '29', '29.세종시_거주의사(향후).csv')\n",
    "GetCompasData('SBJ_2102_001', '30', '30.세종시_법정경계(시군구).geojson')\n",
    "GetCompasData('SBJ_2102_001', '31', '31.세종시_법정경계(읍면동).geojson')\n",
    "GetCompasData('SBJ_2102_001', '32', '32.세종시_행정경계(읍면동).geojson')\n",
    "GetCompasData('SBJ_2102_001', '33', '33.세종시_지적도.geojson')\n",
    "GetCompasData('SBJ_2102_001', '34', '34.세종시_건물분포_이미지.zip')\n",
    "\n",
    "for path in list(input_path.glob('*.csv')) + list(input_path.glob('*.geojson')):\n",
    "    print(path)"
   ]
  },
  {
   "cell_type": "code",
   "execution_count": null,
   "id": "composed-tunnel",
   "metadata": {},
   "outputs": [],
   "source": []
  },
  {
   "cell_type": "code",
   "execution_count": null,
   "id": "baking-exchange",
   "metadata": {},
   "outputs": [],
   "source": []
  },
  {
   "cell_type": "markdown",
   "id": "champion-public",
   "metadata": {},
   "source": [
    "# 지역별 매매 평균값 그래프"
   ]
  },
  {
   "cell_type": "code",
   "execution_count": 25,
   "id": "declared-trainer",
   "metadata": {},
   "outputs": [
    {
     "name": "stderr",
     "output_type": "stream",
     "text": [
      "/opt/app-root/lib/python3.6/site-packages/ipykernel_launcher.py:7: SettingWithCopyWarning: \n",
      "A value is trying to be set on a copy of a slice from a DataFrame\n",
      "\n",
      "See the caveats in the documentation: https://pandas.pydata.org/pandas-docs/stable/user_guide/indexing.html#returning-a-view-versus-a-copy\n",
      "  import sys\n"
     ]
    },
    {
     "data": {
      "text/plain": [
       "<matplotlib.legend.Legend at 0x7f44c0d533c8>"
      ]
     },
     "execution_count": 25,
     "metadata": {},
     "output_type": "execute_result"
    },
    {
     "data": {
      "image/png": "[encoded data removed]",
      "text/plain": [
       "<Figure size 1080x360 with 1 Axes>"
      ]
     },
     "metadata": {
      "needs_background": "light"
     },
     "output_type": "display_data"
    }
   ],
   "source": [
    "# 자료 불러오기\n",
    "아파트_매매= pd.read_csv(input_path.joinpath('3.세종시_아파트(매매)_실거래가.csv'), encoding = 'utf-8' )\n",
    "아파트_매매\n",
    "\n",
    "# 세종 특별자치시 없애기\n",
    "for i in range(len(아파트_매매['시군구'])):\n",
    "    아파트_매매['시군구'][i] = 아파트_매매['시군구'][i][7:]\n",
    "\n",
    "# col 확인\n",
    "아파트_매매.columns\n",
    "\n",
    "# 주소별 거래금액 평균 구하기\n",
    "아파트_매매['거래금액(만원)'] = 아파트_매매['거래금액(만원)'].apply(lambda x: float(x.split()[0].replace(',','')))\n",
    "data_아파트 = 아파트_매매.groupby('시군구')['거래금액(만원)'].mean()\n",
    "data_아파트\n",
    "\n",
    "# 그래프 한글깨짐 방지\n",
    "import matplotlib \n",
    "matplotlib.font_manager._rebuild()\n",
    "plt.rc(\"font\", family=\"Malgun Gothic\")\n",
    "\n",
    "# 지역 별 평균 가격 그래프\n",
    "ax = data_아파트.plot(kind ='bar', title ='지역별 아파트 평균 가격', figsize =(15, 5), legend=True, fontsize = 10, color='indigo')\n",
    "ax.set_xlabel('지역', fontsize = 12)\n",
    "ax.set_ylabel('아파트 평균 가격', fontsize = 12)\n",
    "ax.legend(['평균가격'], fontsize=12)"
   ]
  },
  {
   "cell_type": "code",
   "execution_count": 22,
   "id": "paperback-study",
   "metadata": {},
   "outputs": [
    {
     "name": "stderr",
     "output_type": "stream",
     "text": [
      "/opt/app-root/lib/python3.6/site-packages/ipykernel_launcher.py:7: SettingWithCopyWarning: \n",
      "A value is trying to be set on a copy of a slice from a DataFrame\n",
      "\n",
      "See the caveats in the documentation: https://pandas.pydata.org/pandas-docs/stable/user_guide/indexing.html#returning-a-view-versus-a-copy\n",
      "  import sys\n"
     ]
    },
    {
     "data": {
      "text/plain": [
       "<matplotlib.legend.Legend at 0x7f44bfeec2e8>"
      ]
     },
     "execution_count": 22,
     "metadata": {},
     "output_type": "execute_result"
    },
    {
     "data": {
      "image/png": "[encoded data removed]",
      "text/plain": [
       "<Figure size 1080x360 with 1 Axes>"
      ]
     },
     "metadata": {
      "needs_background": "light"
     },
     "output_type": "display_data"
    }
   ],
   "source": [
    "# 자료 불러오기\n",
    "연립다세대_매매= pd.read_csv(input_path.joinpath('4.세종시_연립다세대(매매)_실거래가.csv'), thousands = ',', encoding = 'utf-8' )\n",
    "연립다세대_매매\n",
    "\n",
    "# 세종 특별자치시 없애기\n",
    "for i in range(len(연립다세대_매매['시군구'])):\n",
    "    연립다세대_매매['시군구'][i] = 연립다세대_매매['시군구'][i][7:]\n",
    "\n",
    "# col 확인\n",
    "연립다세대_매매.columns\n",
    "\n",
    "# 주소별 거래금액 평균 구하기\n",
    "data_연립다세대 = 연립다세대_매매.groupby('시군구')['거래금액(만원)'].mean()\n",
    "data_연립다세대\n",
    "\n",
    "# 그래프 한글깨짐 방지\n",
    "import matplotlib \n",
    "matplotlib.font_manager._rebuild()\n",
    "plt.rc(\"font\", family=\"Malgun Gothic\")\n",
    "\n",
    "# 지역 별 평균 가격 그래프\n",
    "ax = data_연립다세대.plot(kind ='bar', title ='지역별 연립다세대 평균 가격', figsize =(15, 5), legend=True, fontsize = 10, color='deepskyblue')\n",
    "ax.set_xlabel('지역', fontsize = 12)\n",
    "ax.set_ylabel('연립다세대 평균 가격', fontsize = 12)\n",
    "ax.legend(['평균가격'], fontsize=12)"
   ]
  },
  {
   "cell_type": "code",
   "execution_count": 24,
   "id": "entire-newton",
   "metadata": {},
   "outputs": [
    {
     "name": "stderr",
     "output_type": "stream",
     "text": [
      "/opt/app-root/lib/python3.6/site-packages/ipykernel_launcher.py:7: SettingWithCopyWarning: \n",
      "A value is trying to be set on a copy of a slice from a DataFrame\n",
      "\n",
      "See the caveats in the documentation: https://pandas.pydata.org/pandas-docs/stable/user_guide/indexing.html#returning-a-view-versus-a-copy\n",
      "  import sys\n"
     ]
    },
    {
     "data": {
      "text/plain": [
       "<matplotlib.legend.Legend at 0x7f44c0ce42b0>"
      ]
     },
     "execution_count": 24,
     "metadata": {},
     "output_type": "execute_result"
    },
    {
     "data": {
      "image/png": "[encoded data removed]",
      "text/plain": [
       "<Figure size 5760x1080 with 1 Axes>"
      ]
     },
     "metadata": {
      "needs_background": "light"
     },
     "output_type": "display_data"
    }
   ],
   "source": [
    "# 자료 불러오기\n",
    "단독다가구_매매= pd.read_csv(input_path.joinpath('5.세종시_단독다가구(매매)_실거래가.csv'), encoding = 'utf-8' )\n",
    "단독다가구_매매\n",
    "\n",
    "# 세종 특별자치시 없애기\n",
    "for i in range(len(단독다가구_매매['시군구'])):\n",
    "    단독다가구_매매['시군구'][i] = 단독다가구_매매['시군구'][i][7:]\n",
    "\n",
    "# col 확인\n",
    "단독다가구_매매.columns\n",
    "\n",
    "# 주소별 거래금액 평균 구하기\n",
    "단독다가구_매매['거래금액(만원)'] = 단독다가구_매매['거래금액(만원)'].apply(lambda x: float(x.split()[0].replace(',','')))\n",
    "data_단독다가구 = 단독다가구_매매.groupby('시군구')['거래금액(만원)'].mean()\n",
    "data_단독다가구\n",
    "\n",
    "# 그래프 한글깨짐 방지\n",
    "import matplotlib \n",
    "matplotlib.font_manager._rebuild()\n",
    "plt.rc(\"font\", family=\"Malgun Gothic\")\n",
    "\n",
    "# 지역 별 평균 가격 그래프\n",
    "ax = data_단독다가구.plot(kind='bar', title='지역별 단독다가구 평균 가격', figsize=(80,15), legend=True, fontsize=32, color='midnightblue')\n",
    "ax.set_xlabel('지역',fontsize=30)\n",
    "ax.set_ylabel('단독다가구 평균 가격', fontsize=30)\n",
    "ax.legend(['평균 가격'],fontsize=30)"
   ]
  },
  {
   "cell_type": "code",
   "execution_count": 27,
   "id": "alive-olive",
   "metadata": {
    "scrolled": false
   },
   "outputs": [
    {
     "name": "stderr",
     "output_type": "stream",
     "text": [
      "/opt/app-root/lib/python3.6/site-packages/ipykernel_launcher.py:7: SettingWithCopyWarning: \n",
      "A value is trying to be set on a copy of a slice from a DataFrame\n",
      "\n",
      "See the caveats in the documentation: https://pandas.pydata.org/pandas-docs/stable/user_guide/indexing.html#returning-a-view-versus-a-copy\n",
      "  import sys\n"
     ]
    },
    {
     "data": {
      "text/plain": [
       "<matplotlib.legend.Legend at 0x7f44c0ccc278>"
      ]
     },
     "execution_count": 27,
     "metadata": {},
     "output_type": "execute_result"
    },
    {
     "data": {
      "image/png": "[encoded data removed]",
      "text/plain": [
       "<Figure size 1080x360 with 1 Axes>"
      ]
     },
     "metadata": {
      "needs_background": "light"
     },
     "output_type": "display_data"
    }
   ],
   "source": [
    "# 자료 불러오기\n",
    "오피스텔_매매= pd.read_csv(input_path.joinpath('6.세종시_오피스텔(매매)_실거래가.csv'), encoding = 'utf-8' )\n",
    "오피스텔_매매\n",
    "\n",
    "# 세종 특별자치시 없애기\n",
    "for i in range(len(오피스텔_매매['시군구'])):\n",
    "    오피스텔_매매['시군구'][i] = 오피스텔_매매['시군구'][i][7:]\n",
    "\n",
    "# col 확인\n",
    "오피스텔_매매.columns\n",
    "\n",
    "# 주소별 거래금액 평균 구하기\n",
    "오피스텔_매매['거래금액(만원)'] = 오피스텔_매매['거래금액(만원)'].apply(lambda x: float(x.split()[0].replace(',','')))\n",
    "data_오피스텔 = 오피스텔_매매.groupby('시군구')['거래금액(만원)'].mean()\n",
    "data_오피스텔\n",
    "\n",
    "# 그래프 한글깨짐 방지\n",
    "import matplotlib \n",
    "matplotlib.font_manager._rebuild()\n",
    "plt.rc(\"font\", family=\"Malgun Gothic\")\n",
    "\n",
    "# 지역 별 평균 가격 그래프\n",
    "ax = data_오피스텔.plot(kind ='bar', title ='지역별 오피스텔 평균 가격', figsize =(15, 5), legend=True, fontsize = 10, color='palevioletred')\n",
    "ax.set_xlabel('지역', fontsize = 12)\n",
    "ax.set_ylabel('오피스텔 평균 가격', fontsize = 12)\n",
    "ax.legend(['평균가격'], fontsize=12)"
   ]
  },
  {
   "cell_type": "code",
   "execution_count": null,
   "id": "opening-wallpaper",
   "metadata": {},
   "outputs": [],
   "source": []
  },
  {
   "cell_type": "markdown",
   "id": "august-screening",
   "metadata": {},
   "source": [
    "# 지역별 전,월세 평균값 그래프"
   ]
  },
  {
   "cell_type": "code",
   "execution_count": null,
   "id": "sublime-video",
   "metadata": {},
   "outputs": [],
   "source": [
    "# 자료 불러오기\n",
    "아파트_전월세= pd.read_csv(input_path.joinpath('7.세종시_아파트(전월세)_실거래가.csv'),thousands = ',',encoding='cp949' )\n",
    "아파트_전월세\n",
    "\n",
    "# 행 확인\n",
    "아파트_전월세.columns\n",
    "\n",
    "# 세종특별자치시 없애기\n",
    "for i in range(len(아파트_전월세['시군구'])):\n",
    "    아파트_전월세['시군구'][i] = 아파트_전월세['시군구'][i][7:]\n",
    "\n",
    "# 지역마다 전,월세 평균\n",
    "data_아파트_전월세 = 아파트_전월세.groupby(['시군구', '전월세구분'])[['보증금(만원)', '월세(만원)']].mean()\n",
    "data_아파트_전월세 = data_아파트_전월세.unstack().fillna(0)\n",
    "data_아파트_전월세\n",
    "\n",
    "data_아파트_전월세_월세보증금 = data_아파트_전월세['보증금(만원)','월세']\n",
    "data_아파트_전월세_월세 = data_아파트_전월세['월세(만원)','월세']\n",
    "data_아파트_전세 = data_아파트_전월세['보증금(만원)','전세']\n",
    "\n",
    "#data_아파트_전월세['보증금(만원)','전세'] = data_아파트_전세\n",
    "del(data_아파트_전월세['월세(만원)','전세'])\n",
    "del(data_아파트_전월세['보증금(만원)','전세'])\n",
    "\n",
    "round(data_아파트_전월세,2)\n",
    "\n",
    "# 그래프 한글깨짐 방지\n",
    "matplotlib.font_manager._rebuild()\n",
    "plt.rc(\"font\", family=\"Malgun Gothic\")\n",
    "\n",
    "# 지역 별 평균 가격 그래프\n",
    "ax = data_아파트_전월세.plot(kind ='bar', title ='지역별 아파트 전월세 평균 가격', figsize =(15, 5), legend=True, fontsize = 10, color=[ 'dodgerblue', 'crimson'])\n",
    "plt.plot(data_아파트_전세, linestyle='--', color = 'orangered')\n",
    "ax.set_xlabel('지역', fontsize = 12)\n",
    "ax.set_ylabel('아파트 평균 가격(전월세)', fontsize = 12)\n",
    "ax.legend(['전세 가격','월세보증금', '월세 가격'], fontsize=12)\n",
    "\n",
    "for i, v in enumerate(data_아파트_전월세['월세(만원)','월세']):\n",
    "    ax.text(i-0.1, v+v*20, str(round(v, 1)))"
   ]
  },
  {
   "cell_type": "code",
   "execution_count": null,
   "id": "toxic-daughter",
   "metadata": {},
   "outputs": [],
   "source": [
    "# 자료 불러오기\n",
    "연립다세대_전월세= pd.read_csv(input_path.joinpath('8.세종시_연립다세대(전월세)_실거래가.csv'),thousands = ',',encoding='cp949' )\n",
    "연립다세대_전월세\n",
    "\n",
    "# 행 확인\n",
    "연립다세대_전월세.columns\n",
    "\n",
    "# 세종특별자치시 없애기\n",
    "for i in range(len(연립다세대_전월세['시군구'])):\n",
    "    연립다세대_전월세['시군구'][i] = 연립다세대_전월세['시군구'][i][7:]\n",
    "\n",
    "# 지역마다 전,월세 평균\n",
    "data_연립다세대_전월세 = 연립다세대_전월세.groupby(['시군구', '전월세구분'])[['보증금(만원)', '월세(만원)']].mean()\n",
    "data_연립다세대_전월세 = data_연립다세대_전월세.unstack().fillna(0)\n",
    "data_연립다세대_전월세\n",
    "\n",
    "data_연립다세대_전월세_월세보증금 = data_연립다세대_전월세['보증금(만원)','월세']\n",
    "data_연립다세대_전월세_월세 = data_연립다세대_전월세['월세(만원)','월세']\n",
    "data_연립다세대_전세 = data_연립다세대_전월세['보증금(만원)','전세']\n",
    "\n",
    "#data_연립다세대_전월세['보증금(만원)','전세'] = data_연립다세대_전세\n",
    "del(data_연립다세대_전월세['월세(만원)','전세'])\n",
    "del(data_연립다세대_전월세['보증금(만원)','전세'])\n",
    "\n",
    "round(data_연립다세대_전월세,2)\n",
    "\n",
    "# 그래프 한글깨짐 방지\n",
    "matplotlib.font_manager._rebuild()\n",
    "plt.rc(\"font\", family=\"Malgun Gothic\")\n",
    "\n",
    "# 지역 별 평균 가격 그래프\n",
    "ax = data_연립다세대_전월세.plot(kind ='bar', title ='지역별 연립다세대 전월세 평균 가격', figsize =(15, 5), legend=True, fontsize = 10, color=[ 'dodgerblue', 'crimson'])\n",
    "plt.plot(data_연립다세대_전세, linestyle='--', color = 'orangered')\n",
    "ax.set_xlabel('지역', fontsize = 12)\n",
    "ax.set_ylabel('연립다세대 평균 가격(전월세)', fontsize = 12)\n",
    "ax.legend(['전세 가격','월세보증금', '월세 가격'], fontsize=12)\n",
    "\n",
    "for i, v in enumerate(data_연립다세대_전월세['월세(만원)','월세']):\n",
    "    ax.text(i-0.1, v+v*20, str(round(v, 1)))"
   ]
  },
  {
   "cell_type": "code",
   "execution_count": null,
   "id": "related-physiology",
   "metadata": {},
   "outputs": [],
   "source": [
    "# 자료 불러오기\n",
    "단독다가구_전월세= pd.read_csv(input_path.joinpath('9.세종시_단독다가구(전월세)_실거래가.csv'),thousands = ',',encoding='cp949' )\n",
    "단독다가구_전월세\n",
    "\n",
    "# 행 확인\n",
    "단독다가구_전월세.columns\n",
    "\n",
    "# 세종특별자치시 없애기\n",
    "for i in range(len(단독다가구_전월세['시군구'])):\n",
    "    단독다가구_전월세['시군구'][i] = 단독다가구_전월세['시군구'][i][7:]\n",
    "\n",
    "# 지역마다 전,월세 평균\n",
    "data_단독다가구_전월세 = 단독다가구_전월세.groupby(['시군구', '전월세구분'])[['보증금(만원)', '월세(만원)']].mean()\n",
    "data_단독다가구_전월세 = data_단독다가구_전월세.unstack().fillna(0)\n",
    "data_단독다가구_전월세\n",
    "\n",
    "data_단독다가구_전월세_월세보증금 = data_단독다가구_전월세['보증금(만원)','월세']\n",
    "data_단독다가구_전월세_월세 = data_단독다가구_전월세['월세(만원)','월세']\n",
    "data_단독다가구_전세 = data_단독다가구_전월세['보증금(만원)','전세']\n",
    "\n",
    "#data_단독다가구_전월세['보증금(만원)','전세'] = data_단독다가구_전세\n",
    "del(data_단독다가구_전월세['월세(만원)','전세'])\n",
    "del(data_단독다가구_전월세['보증금(만원)','전세'])\n",
    "\n",
    "round(data_단독다가구_전월세,2)\n",
    "\n",
    "# 그래프 한글깨짐 방지\n",
    "matplotlib.font_manager._rebuild()\n",
    "plt.rc(\"font\", family=\"Malgun Gothic\")\n",
    "\n",
    "# 지역 별 평균 가격 그래프\n",
    "ax = data_단독다가구_전월세.plot(kind ='bar', title ='지역별 단독다가구 전월세 평균 가격', figsize =(80, 15), legend=True, fontsize = 32, color=[ 'dodgerblue', 'crimson'])\n",
    "plt.plot(data_단독다가구_전세, linestyle='--', color = 'orangered')\n",
    "ax.set_xlabel('지역', fontsize = 30)\n",
    "ax.set_ylabel('단독다가구 평균 가격(전월세)', fontsize = 30)\n",
    "ax.legend(['전세 가격','월세보증금', '월세 가격'], fontsize=20)\n",
    "\n",
    "for i, v in enumerate(data_단독다가구_전월세['월세(만원)','월세']):\n",
    "    ax.text(i-0.1, v+v*20, str(round(v, 1)))"
   ]
  },
  {
   "cell_type": "code",
   "execution_count": null,
   "id": "african-penguin",
   "metadata": {},
   "outputs": [],
   "source": [
    "# 자료 불러오기\n",
    "오피스텔_전월세= pd.read_csv(input_path.joinpath('10.세종시_오피스텔(전월세)_실거래가.csv'),thousands = ',',encoding='cp949' )\n",
    "오피스텔_전월세\n",
    "\n",
    "# 행 확인\n",
    "오피스텔_전월세.columns\n",
    "\n",
    "# 세종특별자치시 없애기\n",
    "for i in range(len(오피스텔_전월세['시군구'])):\n",
    "    오피스텔_전월세['시군구'][i] = 오피스텔_전월세['시군구'][i][7:]\n",
    "\n",
    "# 지역마다 전,월세 평균\n",
    "data_오피스텔_전월세 = 오피스텔_전월세.groupby(['시군구', '전월세구분'])[['보증금(만원)', '월세(만원)']].mean()\n",
    "data_오피스텔_전월세 = data_오피스텔_전월세.unstack().fillna(0)\n",
    "data_오피스텔_전월세\n",
    "\n",
    "data_오피스텔_전월세_월세보증금 = data_오피스텔_전월세['보증금(만원)','월세']\n",
    "data_오피스텔_전월세_월세 = data_오피스텔_전월세['월세(만원)','월세']\n",
    "data_오피스텔_전세 = data_오피스텔_전월세['보증금(만원)','전세']\n",
    "\n",
    "#data_오피스텔_전월세['보증금(만원)','전세'] = data_오피스텔_전세\n",
    "del(data_오피스텔_전월세['월세(만원)','전세'])\n",
    "del(data_오피스텔_전월세['보증금(만원)','전세'])\n",
    "\n",
    "round(data_오피스텔_전월세,2)\n",
    "\n",
    "# 그래프 한글깨짐 방지\n",
    "matplotlib.font_manager._rebuild()\n",
    "plt.rc(\"font\", family=\"Malgun Gothic\")\n",
    "\n",
    "# 지역 별 평균 가격 그래프\n",
    "ax = data_오피스텔_전월세.plot(kind ='bar', title ='지역별 오피스텔 전월세 평균 가격', figsize =(15, 5), legend=True, fontsize = 10, color=[ 'dodgerblue', 'crimson'])\n",
    "plt.plot(data_오피스텔_전세, linestyle='--', color = 'orangered')\n",
    "ax.set_xlabel('지역', fontsize = 12)\n",
    "ax.set_ylabel('오피스텔 평균 가격(전월세)', fontsize = 12)\n",
    "ax.legend(['전세 가격','월세보증금', '월세 가격'], fontsize=12)\n",
    "\n",
    "for i, v in enumerate(data_오피스텔_전월세['월세(만원)','월세']):\n",
    "    ax.text(i+0.05, v+v*20, str(round(v, 1)))"
   ]
  },
  {
   "cell_type": "code",
   "execution_count": null,
   "id": "executed-christian",
   "metadata": {},
   "outputs": [],
   "source": []
  },
  {
   "cell_type": "markdown",
   "id": "animated-earthquake",
   "metadata": {},
   "source": [
    "# geojson 자료 확인"
   ]
  },
  {
   "cell_type": "code",
   "execution_count": null,
   "id": "answering-preserve",
   "metadata": {},
   "outputs": [],
   "source": [
    "연령별_거주인구 = gpd.read_file(input_path.joinpath('19.세종시_연령별_거주인구정보_격자.geojson'))\n",
    "연령별_거주인구"
   ]
  },
  {
   "cell_type": "code",
   "execution_count": null,
   "id": "crude-japanese",
   "metadata": {},
   "outputs": [],
   "source": [
    "도로명주소 = gpd.read_file(input_path.joinpath('23.세종시_도로명주소_건물.geojson'))\n",
    "도로명주소"
   ]
  },
  {
   "cell_type": "code",
   "execution_count": null,
   "id": "northern-devil",
   "metadata": {},
   "outputs": [],
   "source": [
    "건축물연면적 = gpd.read_file(input_path.joinpath('24.세종시_건축물연면적_격자.geojson'))\n",
    "건축물연면적"
   ]
  },
  {
   "cell_type": "code",
   "execution_count": null,
   "id": "commercial-sitting",
   "metadata": {},
   "outputs": [],
   "source": [
    "법정경계_시군구 = gpd.read_file(input_path.joinpath('30.세종시_법정경계(시군구).geojson'))\n",
    "법정경계_시군구"
   ]
  },
  {
   "cell_type": "code",
   "execution_count": null,
   "id": "received-trial",
   "metadata": {},
   "outputs": [],
   "source": [
    "법정경계_읍면동 = gpd.read_file(input_path.joinpath('31.세종시_법정경계(읍면동).geojson'))\n",
    "법정경계_읍면동"
   ]
  },
  {
   "cell_type": "code",
   "execution_count": null,
   "id": "printable-dealing",
   "metadata": {},
   "outputs": [],
   "source": [
    "행정경계_읍면동 = gpd.read_file(input_path.joinpath('32.세종시_행정경계(읍면동).geojson'))\n",
    "행정경계_읍면동"
   ]
  },
  {
   "cell_type": "code",
   "execution_count": null,
   "id": "formed-irrigation",
   "metadata": {},
   "outputs": [],
   "source": [
    "지적도 = gpd.read_file(input_path.joinpath('33.세종시_지적도.geojson'))\n",
    "지적도"
   ]
  },
  {
   "cell_type": "code",
   "execution_count": null,
   "id": "timely-profit",
   "metadata": {},
   "outputs": [],
   "source": [
    "사업체_매출정보 = gpd.read_file(input_path.joinpath('16.세종시_사업체_매출정보.geojson'))\n",
    "사업체_매출정보"
   ]
  },
  {
   "cell_type": "code",
   "execution_count": null,
   "id": "bulgarian-effect",
   "metadata": {},
   "outputs": [],
   "source": []
  },
  {
   "cell_type": "markdown",
   "id": "certified-manitoba",
   "metadata": {},
   "source": [
    "# 지역별 상권정보"
   ]
  },
  {
   "cell_type": "code",
   "execution_count": null,
   "id": "laden-selling",
   "metadata": {},
   "outputs": [],
   "source": [
    "# 자료 불러오기\n",
    "상권정보 = pd.read_csv(input_path.joinpath('14.세종시_상권정보.csv'))\n",
    "상권정보"
   ]
  },
  {
   "cell_type": "code",
   "execution_count": null,
   "id": "ethical-commerce",
   "metadata": {},
   "outputs": [],
   "source": [
    "# 지역별 각 상점 개수와 합계\n",
    "data_상권정보 = pd.crosstab(상권정보.행정동명, 상권정보.상권업종대분류명, margins=True)\n",
    "data_상권정보"
   ]
  },
  {
   "cell_type": "code",
   "execution_count": null,
   "id": "respiratory-stream",
   "metadata": {},
   "outputs": [],
   "source": [
    "# 지역별 상권 수\n",
    "data_상권정보_all = data_상권정보['All']\n",
    "data_상권정보_all\n"
   ]
  },
  {
   "cell_type": "code",
   "execution_count": null,
   "id": "inappropriate-headline",
   "metadata": {},
   "outputs": [],
   "source": [
    "# 지역별 위도와 경도\n",
    "행정경계_읍면동 = gpd.read_file(input_path.joinpath('32.세종시_행정경계(읍면동).geojson'))\n",
    "행정경계_읍면동\n",
    "\n",
    "행정경계_읍면동['lon'] = (행정경계_읍면동['geometry'].bounds['maxx'] + 행정경계_읍면동['geometry'].bounds['minx'])/2\n",
    "행정경계_읍면동['lat'] = (행정경계_읍면동['geometry'].bounds['maxy'] + 행정경계_읍면동['geometry'].bounds['miny'])/2\n",
    "data_상권정보_lon_lat = 행정경계_읍면동[['ADM_DR_NM', 'lon', 'lat']]\n",
    "data_상권정보_lon_lat=data_상권정보_lon_lat.rename(columns={'ADM_DR_NM':'행정동명'})\n",
    "data_상권정보_lon_lat"
   ]
  },
  {
   "cell_type": "code",
   "execution_count": null,
   "id": "unlike-wagon",
   "metadata": {},
   "outputs": [],
   "source": [
    "# 지역별 위도와 경도, 총 상점 수 합치기\n",
    "data_상권정보_info = pd.merge( data_상권정보_all,data_상권정보_lon_lat, on =\"행정동명\")\n",
    "data_상권정보_info"
   ]
  },
  {
   "cell_type": "code",
   "execution_count": null,
   "id": "special-canada",
   "metadata": {},
   "outputs": [],
   "source": [
    "# 상권업종대분류명 사전순 정렬\n",
    "data_상권정보 = 상권정보\n",
    "data_상권정보 = data_상권정보.sort_values(by='상권업종대분류명')\n",
    "data_상권정보\n",
    "\n",
    "data_상권정보 = data_상권정보[['상권업종대분류명', '도로명주소', 'lon', 'lat']]\n",
    "\n",
    "# 상권업종대분류명을 상권종류로 이름 변경\n",
    "data_상권정보.rename(columns={'상권업종대분류명':'상권종류'}, inplace = True)\n",
    "data_상권정보\n"
   ]
  },
  {
   "cell_type": "code",
   "execution_count": null,
   "id": "aquatic-learning",
   "metadata": {},
   "outputs": [],
   "source": [
    "# 지역 별 평균 상권 수 그래프\n",
    "plt.figure(figsize= (15,6))\n",
    "sns.countplot(data = 상권정보, x=\"행정동명\", order=상권정보['행정동명'].value_counts().index)"
   ]
  },
  {
   "cell_type": "code",
   "execution_count": null,
   "id": "higher-knight",
   "metadata": {},
   "outputs": [],
   "source": []
  },
  {
   "cell_type": "code",
   "execution_count": null,
   "id": "transsexual-blake",
   "metadata": {},
   "outputs": [],
   "source": []
  },
  {
   "cell_type": "code",
   "execution_count": null,
   "id": "marine-wales",
   "metadata": {},
   "outputs": [],
   "source": []
  },
  {
   "cell_type": "markdown",
   "id": "accessory-intelligence",
   "metadata": {},
   "source": [
    "# 상권 수 지도에 표시"
   ]
  },
  {
   "cell_type": "code",
   "execution_count": null,
   "id": "revised-anaheim",
   "metadata": {},
   "outputs": [],
   "source": [
    "# 위도, 경도, 총 상권 개수를 float 형으로 바꿈\n",
    "data_상권정보_info['lon'] = data_상권정보_info.lon.astype(float)\n",
    "data_상권정보_info['lat'] = data_상권정보_info.lat.astype(float)\n",
    "data_상권정보_info['All'] = data_상권정보_info.All.astype(float)\n",
    "data_상권정보_info\n",
    "\n",
    "# 상권 수 시각화\n",
    "상권수_map = folium.Map(location = [data_상권정보_info['lat'].mean(), data_상권정보_info['lon'].mean()],zoom_start = 11)\n",
    "\n",
    "for item in data_상권정보_info.index:\n",
    "    latitude = data_상권정보_info.loc[item,'lat']\n",
    "    longtitude = data_상권정보_info.loc[item,'lon']\n",
    "    popups = folium.Popup(data_상권정보_info.loc[item, '행정동명'], max_width=100)\n",
    "    folium.CircleMarker([latitude, longtitude],\n",
    "                       radius = data_상권정보_info.loc[item,'All']/100,\n",
    "                       popup = popups,\n",
    "                       color = 'red',\n",
    "                       fill = True).add_to(상권수_map)\n",
    "상권수_map\n",
    "\n"
   ]
  },
  {
   "cell_type": "markdown",
   "id": "therapeutic-double",
   "metadata": {},
   "source": [
    "# 상권 수 지도에 표시2"
   ]
  },
  {
   "cell_type": "code",
   "execution_count": null,
   "id": "ultimate-neighborhood",
   "metadata": {},
   "outputs": [],
   "source": [
    "# 자료 불러오기\n",
    "행정경계_읍면동 = gpd.read_file(input_path.joinpath('32.세종시_행정경계(읍면동).geojson'))\n",
    "행정경계_읍면동\n",
    "\n",
    "data = data_상권정보_info[['행정동명', 'All']]\n",
    "data\n",
    "\n",
    "# 지도\n",
    "상권수_map2 = folium.Map(location = [data_상권정보_info['lat'].mean(), data_상권정보_info['lon'].mean()],zoom_start = 11)\n",
    "\n",
    "상권수_map2.choropleth(\n",
    "    geo_data = 행정경계_읍면동,\n",
    "    data = data,\n",
    "    columns=['행정동명', 'All'],\n",
    "    key_on = 'feature.properties.ADM_DR_NM',\n",
    "    fill_color = 'BuPu',\n",
    "    legend_name ='상권 수',\n",
    "    )\n",
    "                       \n",
    "상권수_map2"
   ]
  },
  {
   "cell_type": "code",
   "execution_count": null,
   "id": "reasonable-static",
   "metadata": {},
   "outputs": [],
   "source": []
  },
  {
   "cell_type": "code",
   "execution_count": null,
   "id": "structural-divide",
   "metadata": {},
   "outputs": [],
   "source": []
  },
  {
   "cell_type": "markdown",
   "id": "continental-consciousness",
   "metadata": {},
   "source": [
    "# 상권 정보 지도에 표시"
   ]
  },
  {
   "cell_type": "code",
   "execution_count": null,
   "id": "optional-innocent",
   "metadata": {},
   "outputs": [],
   "source": [
    "\n",
    "data_상권정보 = 상권정보\n",
    "data_상권정보 = data_상권정보[['상권업종대분류명', '도로명주소', 'lon', 'lat']]\n",
    "\n",
    "# 상권업종대분류명을 상권종류로 이름 변경\n",
    "data_상권정보.rename(columns={'상권업종대분류명':'상권종류'}, inplace = True)\n",
    "data_상권정보\n",
    "\n",
    "\n",
    "# 위도, 경도 값 형 변환\n",
    "data_상권정보['lon'] = data_상권정보.lon.astype(float)\n",
    "data_상권정보['lat'] = data_상권정보.lat.astype(float)\n",
    "\n",
    "\n",
    "# 지도\n",
    "\n",
    "상권종류_map = folium.Map(location = [data_상권정보['lat'].mean(), data_상권정보['lon'].mean()],zoom_start = 11)\n",
    "\n",
    "for item in data_상권정보.index:\n",
    "    latitude = data_상권정보.loc[item,'lat']\n",
    "    longtitude = data_상권정보.loc[item,'lon']\n",
    "    \n",
    "    if data_상권정보.loc[item, '상권종류'] == '관광/여가/오락':\n",
    "        colors = 'dodgerblue'\n",
    "    \n",
    "    elif data_상권정보.loc[item, '상권종류'] == '부동산':\n",
    "        colors = 'burlywood'\n",
    "    \n",
    "    elif data_상권정보.loc[item, '상권종류'] == '생활서비스':\n",
    "        colors = 'gold'\n",
    "    \n",
    "    elif data_상권정보.loc[item, '상권종류'] == '소매':\n",
    "        colors = 'darkolivegreen'\n",
    "    \n",
    "    elif data_상권정보.loc[item, '상권종류'] == '학문/교육':\n",
    "        colors = 'slategrey'\n",
    "    \n",
    "    elif data_상권정보.loc[item, '상권종류'] == '음식' :\n",
    "        colors = 'salmon'\n",
    "    \n",
    "    elif data_상권정보.loc[item, '상권종류'] == '스포츠' :\n",
    "        colors = 'blueviolet'\n",
    "    \n",
    "    elif data_상권정보.loc[item, '상권종류'] == '숙박':\n",
    "        colors = 'lihgtpink'\n",
    "    popups = folium.Popup(data_상권정보.loc[item, '도로명주소'], max_width=150)\n",
    "    folium.CircleMarker([latitude, longtitude],\n",
    "                       popup = popups,\n",
    "                       color = colors,\n",
    "                       fill = True).add_to(상권종류_map)\n",
    "상권종류_map\n"
   ]
  },
  {
   "cell_type": "code",
   "execution_count": null,
   "id": "unable-grenada",
   "metadata": {},
   "outputs": [],
   "source": []
  },
  {
   "cell_type": "markdown",
   "id": "increasing-edgar",
   "metadata": {},
   "source": [
    "# 아파트 시세 지도"
   ]
  },
  {
   "cell_type": "code",
   "execution_count": null,
   "id": "earned-harris",
   "metadata": {
    "scrolled": true
   },
   "outputs": [],
   "source": [
    "아파트_매매\n",
    "\n",
    "# 법정경계에 맞게 시군구 편집\n",
    "\n",
    "data_시군구_아파트 = 아파트_매매[['시군구', '거래금액(만원)']]\n",
    "for i in range(len(data_시군구_아파트['시군구'])):\n",
    "    if len(data_시군구_아파트.loc[i, '시군구']) == 9:\n",
    "        data_시군구_아파트['시군구'][i] = data_시군구_아파트['시군구'][i][:5]\n",
    "    elif len(data_시군구_아파트.loc[i, '시군구']) == 8:\n",
    "        \n",
    "        if data_시군구_아파트.loc[i, '시군구'][1] == '조':\n",
    "            data_시군구_아파트['시군구'][i] = data_시군구_아파트['시군구'][i][:5]\n",
    "        else:\n",
    "            data_시군구_아파트['시군구'][i] = data_시군구_아파트['시군구'][i][:5]    \n",
    "    \n",
    "            \n",
    "data_시군구_아파트"
   ]
  },
  {
   "cell_type": "code",
   "execution_count": null,
   "id": "optical-shift",
   "metadata": {},
   "outputs": [],
   "source": [
    "# 시군구별 거래금액(만원) 평균\n",
    "data_시군구_아파트 = data_시군구_아파트.groupby(data_시군구_아파트.시군구)['거래금액(만원)'].mean()\n",
    "data_시군구_아파트\n",
    "\n",
    "data_시군구_아파트 = data_시군구_아파트.reset_index()\n",
    "data_시군구_아파트\n",
    "\n",
    "for i in range(len(data_시군구_아파트['시군구'])):\n",
    "      data_시군구_아파트['시군구'][i] =  data_시군구_아파트['시군구'][i][1:]\n",
    "        \n",
    "data_시군구_아파트"
   ]
  },
  {
   "cell_type": "code",
   "execution_count": null,
   "id": "marked-april",
   "metadata": {},
   "outputs": [],
   "source": [
    "# 자료 불러오기\n",
    "법정경계_시군구 = gpd.read_file(input_path.joinpath('31.세종시_법정경계(읍면동).geojson'))\n",
    "법정경계_시군구"
   ]
  },
  {
   "cell_type": "code",
   "execution_count": null,
   "id": "cooperative-viking",
   "metadata": {
    "scrolled": true
   },
   "outputs": [],
   "source": [
    "# 지역별 위도와 경도\n",
    "법정경계_시군구['lon']= (법정경계_시군구['geometry'].bounds['maxx'] + 법정경계_시군구['geometry'].bounds['minx'])/2\n",
    "법정경계_시군구['lat'] = (법정경계_시군구['geometry'].bounds['maxy'] + 법정경계_시군구['geometry'].bounds['miny'])/2\n",
    "\n",
    "data_아파트_lon_lat = 법정경계_시군구[['EMD_KOR_NM', 'lon', 'lat']]\n",
    "data_아파트_lon_lat = data_아파트_lon_lat.rename(columns={'EMD_KOR_NM':'시군구'})\n",
    "data_아파트_lon_lat"
   ]
  },
  {
   "cell_type": "code",
   "execution_count": null,
   "id": "conventional-globe",
   "metadata": {},
   "outputs": [],
   "source": [
    "# 법정경계에 맞춰 아파트 행 추가\n",
    "\n",
    "data_시군구_아파트.loc[len(data_시군구_아파트)] = ['가람동', 0]\n",
    "data_시군구_아파트.loc[len(data_시군구_아파트)] = ['산울동', 0]\n",
    "data_시군구_아파트.loc[len(data_시군구_아파트)] = ['해밀동', 0]\n",
    "data_시군구_아파트.loc[len(data_시군구_아파트)] = ['합강동', 0]\n",
    "data_시군구_아파트.loc[len(data_시군구_아파트)] = ['집현동', 0]\n",
    "data_시군구_아파트.loc[len(data_시군구_아파트)] = ['연기면', 0]\n",
    "data_시군구_아파트"
   ]
  },
  {
   "cell_type": "code",
   "execution_count": null,
   "id": "characteristic-breeding",
   "metadata": {},
   "outputs": [],
   "source": [
    "data_시군구_아파트['시군구'][1] = '금남면'\n",
    "data_시군구_아파트['시군구'][8] = '부강면'\n",
    "data_시군구_아파트['시군구'][11] ='소정면'\n",
    "data_시군구_아파트['시군구'][14] ='연동면'\n",
    "data_시군구_아파트['시군구'][15] ='연서면'\n",
    "data_시군구_아파트['시군구'][16] ='장군면'\n",
    "data_시군구_아파트['시군구'][17]='전동면'\n",
    "data_시군구_아파트['시군구'][18]='전의면'"
   ]
  },
  {
   "cell_type": "code",
   "execution_count": null,
   "id": "ordinary-plaza",
   "metadata": {},
   "outputs": [],
   "source": [
    "data_시군구_아파트_info = pd.merge(data_아파트_lon_lat, data_시군구_아파트, on ='시군구', how=\"outer\")\n",
    "data_시군구_아파트_info"
   ]
  },
  {
   "cell_type": "code",
   "execution_count": null,
   "id": "renewable-france",
   "metadata": {},
   "outputs": [],
   "source": [
    "# 위도, 경도를 float 형으로 바꿈\n",
    "data_시군구_아파트_info['lon'] = data_시군구_아파트_info.lon.astype(float)\n",
    "data_시군구_아파트_info['lat'] = data_시군구_아파트_info.lat.astype(float)"
   ]
  },
  {
   "cell_type": "code",
   "execution_count": null,
   "id": "individual-words",
   "metadata": {
    "scrolled": true
   },
   "outputs": [],
   "source": [
    "# 지도\n",
    "법정경계_시군구 = gpd.read_file(input_path.joinpath('31.세종시_법정경계(읍면동).geojson'))\n",
    "법정경계_시군구\n",
    "\n",
    "아파트시세_map = folium.Map(location = [data_시군구_아파트_info['lat'].mean(), data_시군구_아파트_info['lon'].mean()] ,zoom_start = 11)\n",
    "\n",
    "data = data_시군구_아파트_info[['시군구','거래금액(만원)']]\n",
    "\n",
    "folium.Choropleth(\n",
    "    geo_data = 법정경계_시군구,\n",
    "    data = data,\n",
    "    columns=['시군구','거래금액(만원)'],\n",
    "    key_on = 'feature.properties.EMD_KOR_NM',\n",
    "    fill_color = 'BuPu',\n",
    "    legend_name ='아파트시세',\n",
    "    ).add_to(아파트시세_map)\n",
    "       \n",
    "\n",
    "아파트시세_map\n"
   ]
  },
  {
   "cell_type": "code",
   "execution_count": null,
   "id": "charming-enough",
   "metadata": {},
   "outputs": [],
   "source": []
  },
  {
   "cell_type": "markdown",
   "id": "cubic-color",
   "metadata": {},
   "source": [
    "# 년도별 지역 전입, 전출자수"
   ]
  },
  {
   "cell_type": "code",
   "execution_count": null,
   "id": "incident-petroleum",
   "metadata": {},
   "outputs": [],
   "source": [
    "# 자료 불러오기\n",
    "전입= pd.read_csv(input_path.joinpath('20.세종시_전입자수.csv') )\n",
    "전입\n",
    "\n",
    "# 자료 불러오기\n",
    "전출= pd.read_csv(input_path.joinpath('21.세종시_전출자수.csv') )\n",
    "전출\n"
   ]
  },
  {
   "cell_type": "code",
   "execution_count": null,
   "id": "forty-shark",
   "metadata": {},
   "outputs": [],
   "source": [
    "# 지역별 총 전입자 수 구하기\n",
    "data_전입자수 = 전입.groupby('세종전입행정동')['전입자수'].agg('sum')\n",
    "data_전입자수\n",
    "\n",
    "# 지역별 총 전입자 수 구하기\n",
    "data_전출자수 = 전출.groupby('세종전출행정동')['전출자수'].agg('sum')\n",
    "data_전출자수"
   ]
  },
  {
   "cell_type": "code",
   "execution_count": null,
   "id": "rental-fraud",
   "metadata": {},
   "outputs": [],
   "source": [
    "ax = data_전입자수.plot(kind ='bar',title ='지역별 전입자 수', figsize =(15, 5), legend=True, fontsize = 10, color='white')\n",
    "ax.plot(data_전출자수, linestyle='--', color ='blue')\n",
    "ax.plot(data_전입자수, linestyle='--', color='red')\n",
    "#ax = data_전입.plot(kind ='bar', title ='지역별 전입자 수', figsize =(15, 5), legend=True, fontsize = 10)\n",
    "#plt.plot(data_전입, linestyle='--', color = 'orangered')\n",
    "ax.set_xlabel('지역', fontsize = 12)\n",
    "ax.set_ylabel('전입자 수', fontsize = 12)\n",
    "ax.legend(['전입자 수'], fontsize=12)"
   ]
  },
  {
   "cell_type": "code",
   "execution_count": null,
   "id": "bored-mobility",
   "metadata": {},
   "outputs": [],
   "source": []
  },
  {
   "cell_type": "markdown",
   "id": "thick-india",
   "metadata": {},
   "source": [
    "# 지역별 지목 거래 금액과 계약 면적 표"
   ]
  },
  {
   "cell_type": "code",
   "execution_count": null,
   "id": "animal-pastor",
   "metadata": {},
   "outputs": [],
   "source": [
    "# 자료 불러오기\n",
    "토지 = pd.read_csv(input_path.joinpath('12.세종시_토지(매매)_실거래가.csv') , encoding='cp949')\n",
    "\n",
    "# 시군구 편집\n",
    "for i in range(len(토지['시군구'])):\n",
    "    토지['시군구'][i] = 토지['시군구'][i][8:12]\n",
    "토지"
   ]
  },
  {
   "cell_type": "code",
   "execution_count": null,
   "id": "parental-oasis",
   "metadata": {
    "scrolled": false
   },
   "outputs": [],
   "source": [
    "pd.set_option('display.max_rows', 700)\n",
    "\n",
    "# 시군구마다 지목의 계약면적과 거래금액의 평균을 표로 표시\n",
    "data_토지 = round(토지.groupby(['시군구','지목'])[['거래금액(만원)','계약면적(㎡)']].mean(),3)\n",
    "data_토지 = data_토지.reset_index()\n",
    "data_토지"
   ]
  },
  {
   "cell_type": "code",
   "execution_count": null,
   "id": "representative-thirty",
   "metadata": {},
   "outputs": [],
   "source": [
    "# 시군구별 지목-금액, 지목-면적으로 표 나누기\n",
    "data_토지_금액 = data_토지[['지목', '거래금액(만원)']]\n",
    "data_토지_면적 = data_토지[['지목', '계약면적(㎡)']]"
   ]
  },
  {
   "cell_type": "code",
   "execution_count": null,
   "id": "confidential-count",
   "metadata": {},
   "outputs": [],
   "source": []
  },
  {
   "cell_type": "code",
   "execution_count": null,
   "id": "established-cement",
   "metadata": {},
   "outputs": [],
   "source": []
  },
  {
   "cell_type": "markdown",
   "id": "descending-option",
   "metadata": {},
   "source": [
    "# 지역별 지목 거래 금액과 거래 면적 지도"
   ]
  },
  {
   "cell_type": "code",
   "execution_count": null,
   "id": "competent-blake",
   "metadata": {},
   "outputs": [],
   "source": [
    "# 31.세종시_법정경계(읍면동).geojson 에서 만든 시군구별 위도, 경도 표\n",
    "지목_lon_lat = data_아파트_lon_lat\n",
    "지목_lon_lat"
   ]
  },
  {
   "cell_type": "code",
   "execution_count": null,
   "id": "still-neighbor",
   "metadata": {},
   "outputs": [],
   "source": [
    "data_토지 = data_토지.reset_index()\n",
    "data_토지"
   ]
  },
  {
   "cell_type": "code",
   "execution_count": null,
   "id": "modular-uganda",
   "metadata": {},
   "outputs": [],
   "source": [
    "# 시군구별로 지목 분리\n",
    "\n",
    "data_고운동 = data_토지[data_토지['시군구'] == '고운동']\n",
    "data_고운동 = data_고운동.set_index('지목')\n",
    "\n",
    "data_금남면 = data_토지[data_토지['시군구'] == '금남면 ']\n",
    "data_금남면 = data_금남면.set_index('지목')\n",
    "\n",
    "data_나성동 = data_토지[data_토지['시군구'] == '나성동']\n",
    "data_나성동 = data_나성동.set_index('지목')\n",
    "\n",
    "data_다정동 = data_토지[data_토지['시군구'] == '다정동']\n",
    "data_다정동 = data_다정동.set_index('지목')\n",
    "\n",
    "data_대평동 = data_토지[data_토지['시군구'] == '대평동']\n",
    "data_대평동 = data_대평동.set_index('지목')\n",
    "\n",
    "data_도담동 = data_토지[data_토지['시군구'] == '도담동']\n",
    "data_도담동 = data_도담동.set_index('지목')\n",
    "\n",
    "data_반곡동 = data_토지[data_토지['시군구'] == '반곡동']\n",
    "data_반곡동 = data_반곡동.set_index('지목')\n",
    "\n",
    "data_보람동 = data_토지[data_토지['시군구'] == '보람동']\n",
    "data_보람동 = data_보람동.set_index('지목')\n",
    "\n",
    "data_부강면 = data_토지[data_토지['시군구'] == '부강면 ']\n",
    "data_부강면 = data_부강면.set_index('지목')\n",
    "\n",
    "data_새롬동 = data_토지[data_토지['시군구'] == '새롬동']\n",
    "data_새롬동 = data_새롬동.set_index('지목')\n",
    "\n",
    "data_소담동 = data_토지[data_토지['시군구'] == '소담동']\n",
    "data_소담동 = data_소담동.set_index('지목')\n",
    "\n",
    "data_소정면 = data_토지[data_토지['시군구'] == '소정면 ']\n",
    "data_소정면 = data_소정면.set_index('지목')\n",
    "\n",
    "data_아름동 = data_토지[data_토지['시군구'] == '아름동']\n",
    "data_아름동 = data_아름동.set_index('지목')\n",
    "\n",
    "data_어진동 = data_토지[data_토지['시군구'] == '어진동']\n",
    "data_어진동 = data_어진동.set_index('지목')\n",
    "\n",
    "data_연기면 = data_토지[data_토지['시군구'] == '연기면 ']\n",
    "data_연기면 = data_연기면.set_index('지목')\n",
    "\n",
    "data_연동면 = data_토지[data_토지['시군구'] == '연동면 ']\n",
    "data_연동면 = data_연동면.set_index('지목')\n",
    "\n",
    "data_연서면 = data_토지[data_토지['시군구'] == '연서면 ']\n",
    "data_연서면 = data_연서면.set_index('지목')\n",
    "\n",
    "data_장군면 = data_토지[data_토지['시군구'] == '장군면 ']\n",
    "data_장군면 = data_장군면.set_index('지목')\n",
    "\n",
    "data_전동면 = data_토지[data_토지['시군구'] == '전동면 ']\n",
    "data_전동면 = data_전동면.set_index('지목')\n",
    "\n",
    "data_전의면 = data_토지[data_토지['시군구'] == '전의면 ']\n",
    "data_전의면 = data_전의면.set_index('지목')\n",
    "\n",
    "data_조치원읍 = data_토지[data_토지['시군구'] == '조치원읍']\n",
    "data_조치원읍 = data_조치원읍.set_index('지목')\n",
    "\n",
    "data_집현동 = data_토지[data_토지['시군구'] == '집현동']\n",
    "data_집현동 = data_집현동.set_index('지목')\n",
    "\n",
    "data_한솔동 = data_토지[data_토지['시군구'] == '한솔동']\n",
    "data_한솔동 = data_한솔동.set_index('지목')\n",
    "\n",
    "data_해밀동 = data_토지[data_토지['시군구'] == '해밀동']\n",
    "data_해밀동 = data_해밀동.set_index('지목')"
   ]
  },
  {
   "cell_type": "code",
   "execution_count": null,
   "id": "pharmaceutical-satellite",
   "metadata": {},
   "outputs": [],
   "source": [
    "# 시군구별로 분리된 표를 금액과 면적으로 나눔\n",
    "\n",
    "고운동_금액 = Bar(data_고운동['거래금액(만원)'], width = 400, height = 200).axis_titles(x = '지목', y = '거래금액')\n",
    "고운동_면적 = Bar(data_고운동['계약면적(㎡)'], width = 400, height = 200).axis_titles(x = '지목', y = '계약면적')\n",
    "\n",
    "금남면_금액 = Bar(data_금남면['거래금액(만원)'], width = 650, height = 200).axis_titles(x = '지목', y = '거래금액')\n",
    "금남면_면적 = Bar(data_금남면['계약면적(㎡)'], width = 650, height = 200).axis_titles(x = '지목', y = '계약면적')\n",
    "\n",
    "나성동_금액 = Bar(data_나성동['거래금액(만원)'], width = 10, height = 200).axis_titles(x = '지목', y = '거래금액')\n",
    "나성동_면적 = Bar(data_나성동['계약면적(㎡)'], width = 100, height = 200).axis_titles(x = '지목', y = '계약면적')\n",
    "\n",
    "다정동_금액 = Bar(data_다정동['거래금액(만원)'], width = 100, height = 200).axis_titles(x = '지목', y = '거래금액')\n",
    "다정동_면적 = Bar(data_다정동['계약면적(㎡)'], width = 100, height = 200).axis_titles(x = '지목', y = '계약면적')\n",
    "\n",
    "대평동_금액 = Bar(data_대평동['거래금액(만원)'], width = 400, height = 200).axis_titles(x = '지목', y = '거래금액')\n",
    "대평동_면적 = Bar(data_대평동['계약면적(㎡)'], width = 400, height = 200).axis_titles(x = '지목', y = '계약면적')\n",
    "\n",
    "도담동_금액 = Bar(data_도담동['거래금액(만원)'], width = 100, height = 200).axis_titles(x = '지목', y = '거래금액')\n",
    "도담동_면적 = Bar(data_도담동['계약면적(㎡)'], width = 100, height = 200).axis_titles(x = '지목', y = '계약면적')\n",
    "\n",
    "반곡동_금액 = Bar(data_반곡동['거래금액(만원)'], width = 100, height = 200).axis_titles(x = '지목', y = '거래금액')\n",
    "반곡동_면적 = Bar(data_반곡동['계약면적(㎡)'], width = 100, height = 200).axis_titles(x = '지목', y = '계약면적')\n",
    "\n",
    "보람동_금액 = Bar(data_보람동['거래금액(만원)'], width = 400, height = 200).axis_titles(x = '지목', y = '거래금액')\n",
    "보람동_면적 = Bar(data_보람동['계약면적(㎡)'], width = 400, height = 200).axis_titles(x = '지목', y = '계약면적')\n",
    "\n",
    "부강면_금액 = Bar(data_부강면['거래금액(만원)'], width = 750, height = 200).axis_titles(x = '지목', y = '거래금액')\n",
    "부강면_면적 = Bar(data_부강면['계약면적(㎡)'], width = 750, height = 200).axis_titles(x = '지목', y = '계약면적')\n",
    "\n",
    "새롬동_금액 = Bar(data_새롬동['거래금액(만원)'], width = 100, height = 200).axis_titles(x = '지목', y = '거래금액')\n",
    "새롬동_면적 = Bar(data_새롬동['계약면적(㎡)'], width = 100, height = 200).axis_titles(x = '지목', y = '계약면적')\n",
    "\n",
    "소담동_금액 = Bar(data_소담동['거래금액(만원)'], width = 400, height = 200).axis_titles(x = '지목', y = '거래금액')\n",
    "소담동_면적 = Bar(data_소담동['계약면적(㎡)'], width = 400, height = 200).axis_titles(x = '지목', y = '계약면적')\n",
    "\n",
    "소정면_금액 = Bar(data_소정면['거래금액(만원)'], width = 400, height = 200).axis_titles(x = '지목', y = '거래금액')\n",
    "소정면_면적 = Bar(data_소정면['계약면적(㎡)'], width = 400, height = 200).axis_titles(x = '지목', y = '계약면적')\n",
    "\n",
    "아름동_금액 = Bar(data_아름동['거래금액(만원)'], width = 100, height = 200).axis_titles(x = '지목', y = '거래금액')\n",
    "아름동_면적 = Bar(data_아름동['계약면적(㎡)'], width = 100, height = 200).axis_titles(x = '지목', y = '계약면적')\n",
    "\n",
    "어진동_금액 = Bar(data_어진동['거래금액(만원)'], width = 100, height = 200).axis_titles(x = '지목', y = '거래금액')\n",
    "어진동_면적 = Bar(data_어진동['계약면적(㎡)'], width = 100, height = 200).axis_titles(x = '지목', y = '계약면적')\n",
    "\n",
    "연기면_금액 = Bar(data_연기면['거래금액(만원)'], width = 500, height = 200).axis_titles(x = '지목', y = '거래금액')\n",
    "연기면_면적 = Bar(data_연기면['계약면적(㎡)'], width = 500, height = 200).axis_titles(x = '지목', y = '계약면적')\n",
    "\n",
    "연동면_금액 = Bar(data_연동면['거래금액(만원)'], width = 650, height = 200).axis_titles(x = '지목', y = '거래금액')\n",
    "연동면_면적 = Bar(data_연동면['계약면적(㎡)'], width = 650, height = 200).axis_titles(x = '지목', y = '계약면적')\n",
    "\n",
    "연서면_금액 = Bar(data_연서면['거래금액(만원)'], width = 650, height = 200).axis_titles(x = '지목', y = '거래금액')\n",
    "연서면_면적 = Bar(data_연서면['계약면적(㎡)'], width = 650, height = 200).axis_titles(x = '지목', y = '계약면적')\n",
    "\n",
    "장군면_금액 = Bar(data_장군면['거래금액(만원)'], width = 650, height = 200).axis_titles(x = '지목', y = '거래금액')\n",
    "장군면_면적 = Bar(data_장군면['계약면적(㎡)'], width = 650, height = 200).axis_titles(x = '지목', y = '계약면적')\n",
    "\n",
    "전동면_금액 = Bar(data_전동면['거래금액(만원)'], width = 650, height = 200).axis_titles(x = '지목', y = '거래금액')\n",
    "전동면_면적 = Bar(data_전동면['계약면적(㎡)'], width = 650, height = 200).axis_titles(x = '지목', y = '계약면적')\n",
    "\n",
    "전의면_금액 = Bar(data_전의면['거래금액(만원)'], width = 700, height = 200).axis_titles(x = '지목', y = '거래금액')\n",
    "전의면_면적 = Bar(data_전의면['계약면적(㎡)'], width = 700, height = 200).axis_titles(x = '지목', y = '계약면적')\n",
    "\n",
    "조치원읍_금액 = Bar(data_조치원읍['거래금액(만원)'], width = 550, height = 200).axis_titles(x = '지목', y = '거래금액')\n",
    "조치원읍_면적 = Bar(data_조치원읍['계약면적(㎡)'], width = 550, height = 200).axis_titles(x = '지목', y = '계약면적')\n",
    "\n",
    "집현동_금액 = Bar(data_집현동['거래금액(만원)'], width = 100, height = 200).axis_titles(x = '지목', y = '거래금액')\n",
    "집현동_면적 = Bar(data_집현동['계약면적(㎡)'], width = 100, height = 200).axis_titles(x = '지목', y = '계약면적')\n",
    "\n",
    "한솔동_금액 = Bar(data_한솔동['거래금액(만원)'], width = 100, height = 200).axis_titles(x = '지목', y = '거래금액')\n",
    "한솔동_면적 = Bar(data_한솔동['계약면적(㎡)'], width = 100, height = 200).axis_titles(x = '지목', y = '계약면적')\n",
    "\n",
    "해밀동_금액 = Bar(data_해밀동['거래금액(만원)'], width = 100, height = 200).axis_titles(x = '지목', y = '거래금액')\n",
    "해밀동_면적 = Bar(data_해밀동['계약면적(㎡)'], width = 100, height = 200).axis_titles(x = '지목', y = '계약면적')"
   ]
  },
  {
   "cell_type": "code",
   "execution_count": null,
   "id": "hybrid-tuner",
   "metadata": {},
   "outputs": [],
   "source": [
    "# 지도\n",
    "\n",
    "법정경계_읍면동 = gpd.read_file(input_path.joinpath('31.세종시_법정경계(읍면동).geojson'))\n",
    "법정경계_읍면동\n",
    "\n",
    "지목_map = folium.Map(location = [지목_lon_lat['lat'].mean(), 지목_lon_lat['lon'].mean()], zoom_start = 11)\n",
    "\n",
    "# 지역 구분\n",
    "지목_map.choropleth(\n",
    "    geo_data = 법정경계_읍면동,\n",
    "    key_on = 'feature.properties.EMD_KOR_NM',\n",
    "    fill_color = 'White',\n",
    "    fill_opacity = 0.3,\n",
    "    legend_name ='지목 종류',\n",
    "    )\n",
    "\n",
    "# 지역별 지목의 금액은 빨간원, 면적은 파란원으로 표시\n",
    "for i in range(len(지목_lon_lat['시군구'])):\n",
    "    latitude_금액 = 지목_lon_lat['lat'][i]\n",
    "    longtitude_금액 = 지목_lon_lat['lon'][i]\n",
    "    \n",
    "    latitude_면적 = (지목_lon_lat['lat'][i]+0.002)\n",
    "    longtitude_면적 = (지목_lon_lat['lon'][i]+0.002)\n",
    "    \n",
    "    popups_금액 = folium.Popup(지목_lon_lat['시군구'][i], max_width=100)\n",
    "    popups_면적 = folium.Popup(지목_lon_lat['시군구'][i], max_width=100)  \n",
    "    \n",
    "    if(지목_lon_lat['시군구'][i] == '고운동'):    \n",
    "        popups_금액 = folium.Popup(max_width=500).add_child(\n",
    "            folium.Vega(고운동_금액, width = 450, height = 250))\n",
    "        popups_면적 = folium.Popup(max_width=500).add_child(\n",
    "            folium.Vega(고운동_면적, width = 450, height = 250))\n",
    "    \n",
    "    elif(지목_lon_lat['시군구'][i] == '금남면'):\n",
    "        popups_금액 = folium.Popup(max_width=800).add_child(\n",
    "            folium.Vega(금남면_금액, width = 750, height = 250))   \n",
    "        popups_면적 = folium.Popup(max_width=800).add_child(\n",
    "            folium.Vega(금남면_면적, width = 750, height = 250))\n",
    "        \n",
    "    elif(지목_lon_lat['시군구'][i] == '나성동'):\n",
    "        popups_금액 = folium.Popup(max_width=200).add_child(\n",
    "            folium.Vega(나성동_금액 , width = 150, height = 250))   \n",
    "        popups_면적 = folium.Popup(max_width=200).add_child(\n",
    "            folium.Vega(나성동_면적 , width = 150, height = 250)) \n",
    "        \n",
    "    elif(지목_lon_lat['시군구'][i] == '다정동'):\n",
    "        popups_금액 = folium.Popup(max_width=200).add_child(\n",
    "            folium.Vega(다정동_금액 , width = 150, height = 250))   \n",
    "        popups_면적 = folium.Popup(max_width=200).add_child(\n",
    "            folium.Vega(다정동_면적 , width = 150, height = 250)) \n",
    "        \n",
    "    elif(지목_lon_lat['시군구'][i] == '대평동'):\n",
    "        popups_금액 = folium.Popup(max_width=500).add_child(\n",
    "            folium.Vega(대평동_금액 , width = 450, height = 250))   \n",
    "        popups_면적 = folium.Popup(max_width=500).add_child(\n",
    "            folium.Vega(대평동_면적 , width = 450, height = 250)) \n",
    "        \n",
    "    elif(지목_lon_lat['시군구'][i] == '도담동'):\n",
    "        popups_금액 = folium.Popup(max_width=200).add_child(\n",
    "            folium.Vega(도담동_금액 , width = 150, height = 250))   \n",
    "        popups_면적 = folium.Popup(max_width=200).add_child(\n",
    "            folium.Vega(도담동_면적 , width = 150, height = 250))         \n",
    "                \n",
    "    elif(지목_lon_lat['시군구'][i] == '반곡동'):\n",
    "        popups_금액 = folium.Popup(max_width=200).add_child(\n",
    "            folium.Vega(반곡동_금액 , width = 150, height = 250))   \n",
    "        popups_면적 = folium.Popup(max_width=200).add_child(\n",
    "            folium.Vega(반곡동_면적 , width = 150, height = 250))         \n",
    "        \n",
    "    elif(지목_lon_lat['시군구'][i] == '보람동'):\n",
    "        popups_금액 = folium.Popup(max_width=500).add_child(\n",
    "            folium.Vega(보람동_금액 , width = 450, height = 250))   \n",
    "        popups_면적 = folium.Popup(max_width=500).add_child(\n",
    "            folium.Vega(보람동_면적 , width = 450, height = 250))         \n",
    "        \n",
    "    elif(지목_lon_lat['시군구'][i] == '부강면'):\n",
    "        popups_금액 = folium.Popup(max_width=850).add_child(\n",
    "            folium.Vega(부강면_금액 , width = 800, height = 250))   \n",
    "        popups_면적 = folium.Popup(max_width=850).add_child(\n",
    "            folium.Vega(부강면_면적 , width = 800, height = 250))         \n",
    "        \n",
    "    elif(지목_lon_lat['시군구'][i] == '새롬동'):\n",
    "        popups_금액 = folium.Popup(max_width=200).add_child(\n",
    "            folium.Vega(새롬동_금액 , width = 150, height = 250))   \n",
    "        popups_면적 = folium.Popup(max_width=200).add_child(\n",
    "            folium.Vega(새롬동_면적 , width = 150, height = 250))         \n",
    "        \n",
    "    elif(지목_lon_lat['시군구'][i] == '소담동'):\n",
    "        popups_금액 = folium.Popup(max_width=500).add_child(\n",
    "            folium.Vega(소담동_금액 , width = 450, height = 250))   \n",
    "        popups_면적 = folium.Popup(max_width=500).add_child(\n",
    "            folium.Vega(소담동_면적 , width = 450, height = 250))         \n",
    "        \n",
    "    elif(지목_lon_lat['시군구'][i] == '소정면'):\n",
    "        popups_금액 = folium.Popup(max_width=500).add_child(\n",
    "            folium.Vega(소정면_금액 , width = 450, height = 250))   \n",
    "        popups_면적 = folium.Popup(max_width=500).add_child(\n",
    "            folium.Vega(소정면_면적 , width = 450, height = 250))         \n",
    "        \n",
    "    elif(지목_lon_lat['시군구'][i] == '아름동'):\n",
    "        popups_금액 = folium.Popup(max_width=200).add_child(\n",
    "            folium.Vega(아름동_금액 , width = 150, height = 250))   \n",
    "        popups_면적 = folium.Popup(max_width=200).add_child(\n",
    "            folium.Vega(아름동_면적 , width = 150, height = 250))         \n",
    "        \n",
    "    elif(지목_lon_lat['시군구'][i] == '어진동'):\n",
    "        popups_금액 = folium.Popup(max_width=200).add_child(\n",
    "            folium.Vega(어진동_금액 , width = 150, height = 250))   \n",
    "        popups_면적 = folium.Popup(max_width=200).add_child(\n",
    "            folium.Vega(어진동_면적 , width = 150, height = 250))         \n",
    " \n",
    "    elif(지목_lon_lat['시군구'][i] == '연기면'):\n",
    "        popups_금액 = folium.Popup(max_width=600).add_child(\n",
    "            folium.Vega(연기면_금액 , width = 550, height = 250))   \n",
    "        popups_면적 = folium.Popup(max_width=600).add_child(\n",
    "            folium.Vega(연기면_면적 , width = 550, height = 250)) \n",
    "\n",
    "    elif(지목_lon_lat['시군구'][i] == '연동면'):\n",
    "        popups_금액 = folium.Popup(max_width=750).add_child(\n",
    "            folium.Vega(연동면_금액 , width = 700, height = 250))   \n",
    "        popups_면적 = folium.Popup(max_width=750).add_child(\n",
    "            folium.Vega(연동면_면적  , width = 700, height = 250)) \n",
    "\n",
    "    elif(지목_lon_lat['시군구'][i] == '연서면'):\n",
    "        popups_금액 = folium.Popup(max_width=800).add_child(\n",
    "            folium.Vega(연서면_금액 , width = 750, height = 250))   \n",
    "        popups_면적 = folium.Popup(max_width=800).add_child(\n",
    "            folium.Vega(연서면_면적 , width = 750, height = 250)) \n",
    "\n",
    "    elif(지목_lon_lat['시군구'][i] == '장군면'):\n",
    "        popups_금액 = folium.Popup(max_width=800).add_child(\n",
    "            folium.Vega(장군면_금액 , width = 750, height = 250))   \n",
    "        popups_면적 = folium.Popup(max_width=800).add_child(\n",
    "            folium.Vega(장군면_면적 , width = 750, height = 250)) \n",
    "\n",
    "    elif(지목_lon_lat['시군구'][i] == '전동면'):\n",
    "        popups_금액 = folium.Popup(max_width=800).add_child(\n",
    "            folium.Vega(전동면_금액 , width = 750, height = 250))   \n",
    "        popups_면적 = folium.Popup(max_width=800).add_child(\n",
    "            folium.Vega(전동면_면적 , width = 750, height = 250)) \n",
    "\n",
    "    elif(지목_lon_lat['시군구'][i] == '전의면'):\n",
    "        popups_금액 = folium.Popup(max_width=800).add_child(\n",
    "            folium.Vega(전의면_금액 , width = 780, height = 250))   \n",
    "        popups_면적 = folium.Popup(max_width=800).add_child(\n",
    "            folium.Vega(전의면_면적 , width = 780, height = 250)) \n",
    "\n",
    "    elif(지목_lon_lat['시군구'][i] == '조치원읍'):\n",
    "        popups_금액 = folium.Popup(max_width=650).add_child(\n",
    "            folium.Vega(조치원읍_금액 , width = 600, height = 250))   \n",
    "        popups_면적 = folium.Popup(max_width=650).add_child(\n",
    "            folium.Vega(조치원읍_면적 , width = 600, height = 250)) \n",
    "\n",
    "    elif(지목_lon_lat['시군구'][i] == '집현동'):\n",
    "        popups_금액 = folium.Popup(max_width=200).add_child(\n",
    "            folium.Vega(집현동_금액 , width = 150, height = 250))   \n",
    "        popups_면적 = folium.Popup(max_width=200).add_child(\n",
    "            folium.Vega(집현동_면적 , width = 150, height = 250)) \n",
    "\n",
    "    elif(지목_lon_lat['시군구'][i] == '한솔동'):\n",
    "        popups_금액 = folium.Popup(max_width=200).add_child(\n",
    "            folium.Vega(한솔동_금액 , width = 150, height = 250))   \n",
    "        popups_면적 = folium.Popup(max_width=200).add_child(\n",
    "            folium.Vega(한솔동_면적 , width = 150, height = 250)) \n",
    "\n",
    "    elif(지목_lon_lat['시군구'][i] == '해밀동'):\n",
    "        popups_금액 = folium.Popup(max_width=200).add_child(\n",
    "            folium.Vega(해밀동_금액 , width = 150, height = 250))   \n",
    "        popups_면적 = folium.Popup(max_width=200).add_child(\n",
    "            folium.Vega(해밀동_면적 , width = 150, height = 250))        \n",
    "        \n",
    "    folium.CircleMarker([latitude_금액, longtitude_금액],\n",
    "                       popup = popups_금액,\n",
    "                       color = 'crimson',\n",
    "                       fill = True).add_to(지목_map)\n",
    "\n",
    "    folium.CircleMarker([latitude_면적, longtitude_면적],\n",
    "                       popup = popups_면적,\n",
    "                       color = 'midnightblue',\n",
    "                       fill = True).add_to(지목_map)\n",
    "\n",
    "지목_map"
   ]
  },
  {
   "cell_type": "code",
   "execution_count": null,
   "id": "editorial-tourist",
   "metadata": {},
   "outputs": [],
   "source": []
  },
  {
   "cell_type": "code",
   "execution_count": null,
   "id": "suited-jerusalem",
   "metadata": {},
   "outputs": [],
   "source": []
  },
  {
   "cell_type": "markdown",
   "id": "threatened-orlando",
   "metadata": {},
   "source": [
    "# 분양권"
   ]
  },
  {
   "cell_type": "code",
   "execution_count": null,
   "id": "toxic-disposition",
   "metadata": {},
   "outputs": [],
   "source": [
    "# 자료 불러오기\n",
    "분양권 = pd.read_csv(input_path.joinpath('13.세종시_분양권_실거래가.csv') , encoding='cp949')\n",
    "분양권"
   ]
  },
  {
   "cell_type": "code",
   "execution_count": null,
   "id": "subtle-cancellation",
   "metadata": {},
   "outputs": [],
   "source": []
  },
  {
   "cell_type": "code",
   "execution_count": null,
   "id": "injured-summer",
   "metadata": {},
   "outputs": [],
   "source": []
  },
  {
   "cell_type": "code",
   "execution_count": null,
   "id": "martial-kitchen",
   "metadata": {},
   "outputs": [],
   "source": []
  },
  {
   "cell_type": "code",
   "execution_count": null,
   "id": "least-spiritual",
   "metadata": {},
   "outputs": [],
   "source": []
  },
  {
   "cell_type": "code",
   "execution_count": null,
   "id": "coastal-marketplace",
   "metadata": {},
   "outputs": [],
   "source": []
  },
  {
   "cell_type": "code",
   "execution_count": null,
   "id": "american-ottawa",
   "metadata": {},
   "outputs": [],
   "source": []
  },
  {
   "cell_type": "code",
   "execution_count": null,
   "id": "cleared-sharing",
   "metadata": {},
   "outputs": [],
   "source": []
  },
  {
   "cell_type": "markdown",
   "id": "progressive-sauce",
   "metadata": {},
   "source": []
  }
 ],
 "metadata": {
  "kernelspec": {
   "display_name": "Python 3",
   "language": "python",
   "name": "python3"
  },
  "language_info": {
   "codemirror_mode": {
    "name": "ipython",
    "version": 3
   },
   "file_extension": ".py",
   "mimetype": "text/x-python",
   "name": "python",
   "nbconvert_exporter": "python",
   "pygments_lexer": "ipython3",
   "version": "3.6.9"
  }
 },
 "nbformat": 4,
 "nbformat_minor": 5
}
